{
 "cells": [
  {
   "cell_type": "markdown",
   "metadata": {},
   "source": [
    "# Waterquality example notebook"
   ]
  },
  {
   "cell_type": "markdown",
   "metadata": {},
   "source": [
    "This notebook presents how to use the `waterquality` package, that is an extension for the `waterdetect` package for creating water quality maps based on inversion algorithms. "
   ]
  },
  {
   "cell_type": "code",
   "execution_count": 6,
   "metadata": {},
   "outputs": [],
   "source": [
    "%load_ext autoreload\n",
    "%autoreload 2"
   ]
  },
  {
   "cell_type": "code",
   "execution_count": 7,
   "metadata": {},
   "outputs": [],
   "source": [
    "# First, make sure waterquality and waterdetect are correctly installed\n",
    "# %pip install waterdetect\n",
    "# pip install git+https://github.com/cordmaur/WaterQuality.git@main\n",
    "\n",
    "from waterquality import DWWaterQuality"
   ]
  },
  {
   "cell_type": "markdown",
   "metadata": {},
   "source": [
    "## Config files"
   ]
  },
  {
   "cell_type": "markdown",
   "metadata": {},
   "source": [
    "Both `waterdetect` and `waterquality` need the config files (.ini) to be set before launching. Samples for these files can be found in the `tests/aux_data` folder. <br>\n",
    "We will point to them:"
   ]
  },
  {
   "cell_type": "code",
   "execution_count": 2,
   "metadata": {},
   "outputs": [],
   "source": [
    "from pathlib import Path\n",
    "auxdata = Path('../tests/aux_data')\n",
    "\n",
    "wd_ini = auxdata/'WaterDetect.ini'\n",
    "wq_ini = auxdata/'WaterQuality.ini'\n",
    "\n",
    "assert wq_ini.exists() and wd_ini.exists()\n"
   ]
  },
  {
   "cell_type": "markdown",
   "metadata": {},
   "source": [
    "## Creating WaterQuality instance"
   ]
  },
  {
   "cell_type": "code",
   "execution_count": 3,
   "metadata": {},
   "outputs": [
    {
     "name": "stdout",
     "output_type": "stream",
     "text": [
      "Initializing waterquality package (version=1.1.2)\n",
      "Waterdetect version: 1.5.12\n",
      "Trying to locate the proj.db inside GDAL.\n",
      "Loading configuration file ..\\tests\\aux_data\\WaterQuality.ini\n",
      "File ..\\tests\\aux_data\\WaterQuality.ini verified.\n",
      "Loading configuration file ..\\tests\\aux_data\\WaterDetect.ini\n",
      "File ..\\tests\\aux_data\\WaterDetect.ini verified.\n",
      "Folder d:/images/22KEV/S2A_MSIL2A_20210706T133231_N0301_R081_T22KEV_20210706T172741.SAFE verified.\n",
      "File d:/images/shp/22KEV.shp verified.\n",
      "Folder d:/images/output verified.\n"
     ]
    }
   ],
   "source": [
    "from waterquality import DWWaterQuality\n",
    "\n",
    "wq = DWWaterQuality(\n",
    "    input_folder='d:/images/22KEV/S2A_MSIL2A_20210706T133231_N0301_R081_T22KEV_20210706T172741.SAFE',\n",
    "    output_folder='d:/images/output',\n",
    "    shape_file='d:/images/shp/22KEV.shp',\n",
    "    product='S2_S2COR',\n",
    "    config_file=wd_ini,\n",
    "    config_wq=wq_ini,\n",
    "    single_mode=True,\n",
    ")"
   ]
  },
  {
   "cell_type": "markdown",
   "metadata": {},
   "source": [
    "## Create the inversion function"
   ]
  },
  {
   "cell_type": "markdown",
   "metadata": {},
   "source": [
    "Before launching the processing, it is necessary to create the functions that will be responsible for inverting from the spectral signature to actual water quality parameters. <br>\n",
    "These functions can be found in the literature, and they will depend on various factors such as water type, satellite sensor, atmospheric conditions, among others.\n",
    "\n",
    "Once the correct function is selected, it is necessary to inform `waterquality` how to perform the inversion. You can inform more than one function for different parameters, for example, or to test different functions in the same area. <br>\n",
    "The functions shall be informed in a dictionary containing {'name f1': function 1, 'name f2': function 2, ...}\n",
    "\n",
    "Bellow is an example using the SPM algorithm proposed by Nechad et al. (2010).\n",
    "\n",
    "OBS: The function will receive the following parameters:"
   ]
  },
  {
   "cell_type": "markdown",
   "metadata": {},
   "source": [
    "The function can use any band available in the satellite. The only requirement is that it uses the same name in the arguments that `waterdetect` uses internally to refer to that band. So, before writing the inversion function, check the bands available for the satellite, that are informed in the `InputOutput` module from `waterdetect`. To simplify the calculation of the quality parameter, all the bands will be rescaled to the same shape, as defined in the `reference_band` in the config file `WaterDetect.ini`."
   ]
  },
  {
   "cell_type": "code",
   "execution_count": 4,
   "metadata": {},
   "outputs": [
    {
     "name": "stdout",
     "output_type": "stream",
     "text": [
      "{'bands_names': {'Blue': 'B02_10m', 'Green': 'B03_10m', 'Red': 'B04_10m', 'Mir': 'B11_20m', 'Mir2': 'B12_20m', 'RedEdg1': 'B05_20m', 'RedEdg2': 'B06_20m', 'RedEdg3': 'B07_20m', 'Nir': 'B08_10m', 'Nir2': 'B8A_20m'}, 'suffix': '.jp2', 'string': '', 'metadata': '*MTD_TL.xml', 'subdir': 'GRANULE/*/IMG_DATA', 'recursive': True}\n"
     ]
    }
   ],
   "source": [
    "from waterdetect.InputOutput import DWLoader\n",
    "\n",
    "# select the product\n",
    "product = 'S2_S2COR'    # or S2_THEIA, L8_USGS, S2_L1C, L8_L1C\n",
    "\n",
    "# print the bands with the internal waterdetect names\n",
    "print(DWLoader.satellite_Dict['S2_S2COR'])"
   ]
  },
  {
   "cell_type": "code",
   "execution_count": 5,
   "metadata": {},
   "outputs": [],
   "source": [
    "def tsm(Red=1):\n",
    "    a = 493.65\n",
    "    b = 1.16\n",
    "    c = 0.188\n",
    "    tsm = a * Red / (1 - (Red/c)) + b\n",
    "    return tsm"
   ]
  },
  {
   "cell_type": "code",
   "execution_count": 6,
   "metadata": {},
   "outputs": [],
   "source": [
    "functions = {\n",
    "    'SPM_Nechad': {\n",
    "        'function': tsm,\n",
    "        'units': 'mg/l'\n",
    "    }\n",
    "    # Here you can add another quality function\n",
    "}\n"
   ]
  },
  {
   "cell_type": "code",
   "execution_count": 7,
   "metadata": {},
   "outputs": [
    {
     "name": "stdout",
     "output_type": "stream",
     "text": [
      "Starting WaterDetection version: 1.5.12\n",
      "Opening image in folder d:\\images\\22KEV\\S2A_MSIL2A_20210706T133231_N0301_R081_T22KEV_20210706T172741.SAFE\n",
      "Retrieving bands for product S2_S2COR\n",
      "35 were found:\n",
      "Loading band: Blue\n",
      "Loading band: Green\n",
      "Loading band: Red\n",
      "Loading band: Mir\n",
      "Loading band: Mir2\n",
      "Loading band: RedEdg1\n",
      "Loading band: RedEdg2\n",
      "Loading band: RedEdg3\n",
      "Loading band: Nir\n",
      "Loading band: Nir2\n",
      "Invalid pixels (0.0001303785886416148) < maximum (0.95).\n",
      "Saving final MASK\n",
      "Saving image: d:/images/output/22KEV/S2A_MSIL2A_20210706T133231_N0301_R081_T22KEV_20210706T172741/S2A_MSIL2A_20210706T133231_N0301_R081_T22KEV_20210706T172741_invalid_mask.tif\n",
      "Calculating water mask in single mode. Just the first band_combination is processed\n",
      "Calculating clusters for the following combination of bands:\n",
      "['mndwi', 'ndwi', 'Mir2']\n"
     ]
    },
    {
     "name": "stderr",
     "output_type": "stream",
     "text": [
      "Clipping input data to the valid range for imshow with RGB data ([0..1] for floats or [0..255] for integers).\n"
     ]
    },
    {
     "name": "stdout",
     "output_type": "stream",
     "text": [
      "Selection of best number of clusters using Calinski-Harabasz Index:\n",
      "k=2 :Calinski_harabaz index=16833.524977553854\n",
      "k=3 :Calinski_harabaz index=8425.920660045012\n",
      "Applying clusters based naive bayes classifier\n",
      "Assgnin 1 to cluster_id 0\n",
      "Skipping cluster_id 0\n",
      "Saving image: d:/images/output/22KEV/S2A_MSIL2A_20210706T133231_N0301_R081_T22KEV_20210706T172741/AC_NB_CM_mndwindwiMir2/AC_NB_CM_mndwindwiMir2_water_mask.tif\n",
      "Saving image: d:/images/output/22KEV/S2A_MSIL2A_20210706T133231_N0301_R081_T22KEV_20210706T172741/AC_NB_CM_mndwindwiMir2/AC_NB_CM_mndwindwiMir2_clusters.tif\n",
      "Saving image: d:/images/output/22KEV/S2A_MSIL2A_20210706T133231_N0301_R081_T22KEV_20210706T172741/AC_NB_CM_mndwindwiMir2/AC_NB_CM_mndwindwiMir2_water_mask_rgb.tif\n",
      "Creating pdf file: d:/images/output/22KEV/S2A_MSIL2A_20210706T133231_N0301_R081_T22KEV_20210706T172741/AC_NB_CM_mndwindwiMir2/AC_NB_CM_mndwindwiMir2_water_mask_rgb.pdf\n",
      "Saving image: d:/images/output/22KEV/S2A_MSIL2A_20210706T133231_N0301_R081_T22KEV_20210706T172741/AC_NB_CM_mndwindwiMir2/AC_NB_CM_mndwindwiMir2_overlay_rgb.tif\n",
      "Creating pdf file: d:/images/output/22KEV/S2A_MSIL2A_20210706T133231_N0301_R081_T22KEV_20210706T172741/AC_NB_CM_mndwindwiMir2/AC_NB_CM_mndwindwiMir2_overlay_rgb.pdf\n",
      "Calculating SPM_Nechad parameter.\n"
     ]
    },
    {
     "name": "stderr",
     "output_type": "stream",
     "text": [
      "RuntimeWarning: divide by zero encountered in true_divide [2985707281.py:5]\n"
     ]
    },
    {
     "name": "stdout",
     "output_type": "stream",
     "text": [
      "Saving image: d:/images/output/22KEV/S2A_MSIL2A_20210706T133231_N0301_R081_T22KEV_20210706T172741/SPM_Nechad.tif\n",
      "Saving image: d:/images/output/22KEV/S2A_MSIL2A_20210706T133231_N0301_R081_T22KEV_20210706T172741/SPM_Nechad_rgb.tif\n",
      "Creating pdf file: d:/images/output/22KEV/S2A_MSIL2A_20210706T133231_N0301_R081_T22KEV_20210706T172741/SPM_Nechad_rgb.pdf\n"
     ]
    }
   ],
   "source": [
    "wq.run_water_quality(\n",
    "    inversion_functions=functions\n",
    ")"
   ]
  },
  {
   "cell_type": "code",
   "execution_count": 122,
   "metadata": {},
   "outputs": [
    {
     "data": {
      "image/png": "[encoded data removed]",
      "text/plain": [
       "<Figure size 720x720 with 1 Axes>"
      ]
     },
     "metadata": {
      "needs_background": "light"
     },
     "output_type": "display_data"
    }
   ],
   "source": [
    "wq.plot_param('SPM_Nechad', cmap='jet', vmin=5, vmax=20)"
   ]
  },
  {
   "cell_type": "markdown",
   "metadata": {},
   "source": [
    "If report is true in WaterDetect.ini, the water quality map will be displayed there:"
   ]
  },
  {
   "cell_type": "markdown",
   "metadata": {},
   "source": [
    "If you want to acess the values directly from the notebook:"
   ]
  },
  {
   "cell_type": "code",
   "execution_count": 14,
   "metadata": {},
   "outputs": [
    {
     "data": {
      "text/plain": [
       "{'SPM_Nechad': array([[-9999., -9999., -9999., ..., -9999., -9999., -9999.],\n",
       "        [-9999., -9999., -9999., ..., -9999., -9999., -9999.],\n",
       "        [-9999., -9999., -9999., ..., -9999., -9999., -9999.],\n",
       "        ...,\n",
       "        [-9999., -9999., -9999., ..., -9999., -9999., -9999.],\n",
       "        [-9999., -9999., -9999., ..., -9999., -9999., -9999.],\n",
       "        [-9999., -9999., -9999., ..., -9999., -9999., -9999.]],\n",
       "       dtype=float32)}"
      ]
     },
     "execution_count": 14,
     "metadata": {},
     "output_type": "execute_result"
    }
   ],
   "source": [
    "wq.quality_parameters"
   ]
  }
 ],
 "metadata": {
  "interpreter": {
   "hash": "37ebf0414bdc2b284a9e517ca67d19d91bc587dab1f73d6d17f8820ee00ca483"
  },
  "kernelspec": {
   "display_name": "Python 3.8.12 ('waterquality')",
   "language": "python",
   "name": "python3"
  },
  "language_info": {
   "codemirror_mode": {
    "name": "ipython",
    "version": 3
   },
   "file_extension": ".py",
   "mimetype": "text/x-python",
   "name": "python",
   "nbconvert_exporter": "python",
   "pygments_lexer": "ipython3",
   "version": "3.8.12"
  },
  "orig_nbformat": 4
 },
 "nbformat": 4,
 "nbformat_minor": 2
}
